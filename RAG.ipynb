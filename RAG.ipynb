{
 "cells": [
  {
   "cell_type": "markdown",
   "metadata": {},
   "source": [
    "# RAG example - Monica resume"
   ]
  },
  {
   "cell_type": "markdown",
   "metadata": {},
   "source": [
    "Import packages"
   ]
  },
  {
   "cell_type": "code",
   "execution_count": 11,
   "metadata": {},
   "outputs": [],
   "source": [
    "from langchain.document_loaders import PDFPlumberLoader\n",
    "import re\n",
    "from langchain.vectorstores import FAISS\n",
    "from langchain_huggingface import HuggingFaceEmbeddings\n",
    "from langchain.schema import Document\n",
    "from langchain.llms import Ollama\n",
    "from langchain.chains import RetrievalQA\n"
   ]
  },
  {
   "cell_type": "markdown",
   "metadata": {},
   "source": [
    "Load resume"
   ]
  },
  {
   "cell_type": "code",
   "execution_count": null,
   "metadata": {},
   "outputs": [
    {
     "name": "stderr",
     "output_type": "stream",
     "text": [
      "CropBox missing from /Page, defaulting to MediaBox\n"
     ]
    }
   ],
   "source": [
    "loader = PDFPlumberLoader(\"/Users/yuhsuanko/Downloads/Yu-Hsuan_Ko_Resume.pdf\")\n",
    "pages = loader.load()\n",
    "\n",
    "full_text = \"\\n\".join([p.page_content for p in pages])"
   ]
  },
  {
   "cell_type": "markdown",
   "metadata": {},
   "source": [
    "Split text"
   ]
  },
  {
   "cell_type": "code",
   "execution_count": 3,
   "metadata": {},
   "outputs": [
    {
     "name": "stdout",
     "output_type": "stream",
     "text": [
      "--- Chunk 1 ---\n",
      "Yu-Hsuan (Monica) Ko\n",
      "Chicago, Illinois, USA | (312) 284-9394 | yuhsuanko@uchicago.edu | linkedin.com/in/yu-hsuan-ko\n",
      "\n",
      "--- Chunk 2 ---\n",
      "EDUCATION\n",
      "University of Chicago Chicago, Illinois\n",
      "Master of Science in Applied Data Science Sep 2024 - Dec 2025\n",
      "Relevant Courses: Big Data and Cloud Computing, Bayesian Machine Learning with Generative AI Applications,\n",
      "Time Series Analysis and Forecasting, Natural Language Processing and Cognitive Computing\n",
      "National Taiwan Normal University Taipei, Taiwan\n",
      "Bachelor of Business Administration Sep 2018 - Jun 2022\n",
      "Relevant Courses: Advanced Statistics, Calculus, Management Mathematics, Text Mining, \n",
      "\n",
      "--- Chunk 3 ---\n",
      "SKILLS & CERTIFICATIONS\n",
      "• Programming Languages: Python(scikit-learn,PySpark,TensorFlow,Pytorch,transformers),SQL,R,Java,JavaScript\n",
      "• Technology Tools: Google Cloud Platform (GCP), AWS, Azure, Linux, Hadoop, Spark, Hive, Git, Docker, Confluence,\n",
      "\n",
      "--- Chunk 4 ---\n",
      "JIRA, UiPath\n",
      "• ML / DL / LLM:RandomForest,NaturalLanguageProcessing(NLP),RecommendationSystems,CNNs,GPT,LLaMA\n",
      "• Data Visualization & Statistical Analysis: Tableau, Neo4j, SAS, SPSS, STATA\n",
      "• Certifications: Certified Anti-Money Laundering Specialist (CAMS), Google Digital Marketing\n",
      "\n",
      "--- Chunk 5 ---\n",
      "WORK EXPERIENCE\n",
      "E.SUN Commercial Bank Taipei, Taiwan\n",
      "Data Analyst, Risk Management Division Jul 2023 – Sep 2024\n",
      "• Designed3innovativeanti-moneylaundering(AML)typologiesusingPythonandPostgreSQLtoextractandanalyze500M+\n",
      "transactions from cloud database, automating report generation and reducing false positives from 50% to 20%\n",
      "• Revamped transaction monitoring system using Python, SAS, and T-SQL to improve AML detection rates by 15% and\n",
      "enhanced 20+ logics for domestic and international systems, opt\n",
      "\n",
      "--- Chunk 6 ---\n",
      "LINE Taiwan Limited Taipei, Taiwan\n",
      "Data Management Specialist, Customer Care UX Team Oct 2022 – Feb 2023\n",
      "• Optimized a customer service chatbot, labeled user reviews from iOS/Android apps, and improved the natural language\n",
      "classification system, increasing response accuracy by 10%\n",
      "• Identified initial technical issues from customer chatbot interactions and reported problems to relevant teams, enhancing\n",
      "service quality and boosting customer satisfaction to over 70%\n",
      "\n",
      "--- Chunk 7 ---\n",
      "SELECTIVE PROJECTS\n",
      "Neural Network-Based Detection of AI-Generated Human Images Feb 2025 – Mar 2025\n",
      "• DevelopedAI-generatedhumanimagedetectionmodelusingCNNsandBayesiantechniques,leveragingpretrainedDINOv2\n",
      "vision transformer, achieving 70% classification accuracy for deepfake and fraud detection applications\n",
      "Music Recommendation System on Spotify Feb 2025 – Mar 2025\n",
      "• DesignedpersonalizedmusicrecommendationsystemforSpotifyusingK-Meansclustering, popularityprediction, andNLP\n",
      "(Word2Vec, TF-IDF) to a\n",
      "\n"
     ]
    }
   ],
   "source": [
    "# split section\n",
    "def split_resume_by_section(text):\n",
    "    sections = re.split(r\"\\n(?=[A-Z][A-Z ]{2,})\", text)  # e.g. EXPERIENCE, PROJECTS\n",
    "    chunks = []\n",
    "    for section in sections:\n",
    "        if len(section.strip()) > 50:  # ignore\n",
    "            chunks.append(section.strip())\n",
    "    return chunks\n",
    "\n",
    "resume_chunks = split_resume_by_section(full_text)\n",
    "\n",
    "# show results\n",
    "for i, chunk in enumerate(resume_chunks):\n",
    "    print(f\"--- Chunk {i+1} ---\\n{chunk[:500]}\\n\")\n"
   ]
  },
  {
   "cell_type": "code",
   "execution_count": 12,
   "metadata": {},
   "outputs": [],
   "source": [
    "embedding_model = HuggingFaceEmbeddings(model_name=\"sentence-transformers/all-MiniLM-L6-v2\")\n",
    "\n",
    "docs = [Document(page_content=chunk) for chunk in resume_chunks]\n",
    "db = FAISS.from_documents(docs, embedding_model)\n"
   ]
  },
  {
   "cell_type": "markdown",
   "metadata": {},
   "source": [
    "llama"
   ]
  },
  {
   "cell_type": "code",
   "execution_count": 13,
   "metadata": {},
   "outputs": [
    {
     "name": "stdout",
     "output_type": "stream",
     "text": [
      "Based on the provided context, Yu-Hsuan (Monica) Ko has experience with:\n",
      "\n",
      "* Robotic Process Automation (RPA): She mentions deploying 3 robotic process automation (RPA) pipelines with Python to automate systems and API tasks in her role as Data Analyst at E.SUN Commercial Bank.\n",
      "* Anti-Money Laundering (AML): She designed innovative anti-money laundering (AML) typologies using Python and PostgreSQL, and revamped transaction monitoring system using Python, SAS, and T-SQL to improve AML detection rates by 15% in her role as Data Analyst at E.SUN Commercial Bank.\n"
     ]
    }
   ],
   "source": [
    "llm = Ollama(model=\"llama3\")\n",
    "qa = RetrievalQA.from_chain_type(llm=llm, retriever=db.as_retriever())\n",
    "\n",
    "query = \"Does she have experience with RPA or AML?\"\n",
    "print(qa.run(query))\n"
   ]
  },
  {
   "cell_type": "code",
   "execution_count": 14,
   "metadata": {},
   "outputs": [
    {
     "name": "stdout",
     "output_type": "stream",
     "text": [
      "Question: her work experience\n",
      "Answer: Based on the provided context, here is an overview of their work experience:\n",
      "\n",
      "* Data Management Specialist at LINE Taiwan Limited Taipei, Taiwan (Oct 2022 - Feb 2023):\n",
      "\t+ Optimized a customer service chatbot and improved natural language classification system.\n",
      "\t+ Identified technical issues from customer interactions and reported problems to relevant teams.\n",
      "* Data Analyst at E.SUN Commercial Bank Taipei, Taiwan (Jul 2023 - Sep 2024):\n",
      "\t+ Designed innovative anti-money laundering typologies using Python and PostgreSQL.\n",
      "\t+ Revamped transaction monitoring system using Python, SAS, and T-SQL.\n",
      "\t+ Built machine learning models to identify suspicious transactions and conducted feature selection.\n",
      "\t+ Created visualized transaction networks to uncover complex interconnections across bank-wide transaction channels.\n",
      "\t+ Deployed robotic process automation (RPA) pipelines with Python to automate systems and API tasks.\n",
      "* Data Scientist Intern at The Shanghai Commercial & Savings Bank Taipei, Taiwan (Mar 2023 - Jun 2023):\n",
      "\t+ Authored a Python handbook to empower non-technical colleagues with self-guided data analysis skills.\n",
      "\t+ Applied machine learning models for clustering analysis and segmenting customers in the loan market.\n",
      "\t+ Developed an RPA process using UiPath to obtain daily exchange rates from 33 banks.\n",
      "\n",
      "Note that there is also mention of internal training as a teaching assistant, but this does not appear to be part of their formal work experience.\n",
      "Question: Is she a good candidate as a data scientist?\n",
      "Answer: Based on the provided context, it appears that this individual has a strong educational background in applied data science, and has gained hands-on experience in various roles related to data analysis and science.\n",
      "\n",
      "She has worked as a Data Analyst at E.SUN Commercial Bank, where she designed innovative anti-money laundering typologies using Python, built machine learning models to identify suspicious transactions, created visualized transaction networks, and deployed robotic process automation (RPA) pipelines. These projects demonstrate her ability to apply data science concepts to real-world problems.\n",
      "\n",
      "Additionally, she has also worked as a Data Scientist Intern at The Shanghai Commercial & Savings Bank, where she applied machine learning models for clustering analysis, developed an RPA process using UiPath, and instructed managers and employees in applying machine learning models with Python. These experiences showcase her ability to work with various tools and technologies, including Python, RPA, and Tableau.\n",
      "\n",
      "Furthermore, her educational background includes courses such as Big Data and Cloud Computing, Bayesian Machine Learning with Generative AI Applications, Time Series Analysis and Forecasting, Natural Language Processing and Cognitive Computing, which provide a solid foundation in data science concepts.\n",
      "\n",
      "Overall, considering her education, work experience, and skills, it appears that this individual is a strong candidate for a data scientist role.\n"
     ]
    }
   ],
   "source": [
    "# Ask questions\n",
    "while True:\n",
    "    query = input(\"Ask a question about the resume (type 'exit' to quit): \")\n",
    "    if query.lower() == \"exit\":\n",
    "        break\n",
    "    response = qa.run(query)\n",
    "    print(\"Question:\", query)\n",
    "    print(\"Answer:\", response)"
   ]
  },
  {
   "cell_type": "code",
   "execution_count": null,
   "metadata": {},
   "outputs": [],
   "source": []
  }
 ],
 "metadata": {
  "kernelspec": {
   "display_name": "adsp-nlp",
   "language": "python",
   "name": "python3"
  },
  "language_info": {
   "codemirror_mode": {
    "name": "ipython",
    "version": 3
   },
   "file_extension": ".py",
   "mimetype": "text/x-python",
   "name": "python",
   "nbconvert_exporter": "python",
   "pygments_lexer": "ipython3",
   "version": "3.11.9"
  }
 },
 "nbformat": 4,
 "nbformat_minor": 2
}
